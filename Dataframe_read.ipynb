{
 "cells": [
  {
   "cell_type": "code",
   "execution_count": 1,
   "id": "e3a8b0fd-f852-4c42-a182-626eeac2d8ab",
   "metadata": {},
   "outputs": [],
   "source": [
    "import findspark\n",
    "findspark.init('/opt/spark')"
   ]
  },
  {
   "cell_type": "code",
   "execution_count": 3,
   "id": "2d698c08-2d93-4b24-b5bc-243ca5b6c66e",
   "metadata": {},
   "outputs": [],
   "source": [
    "from pyspark.sql import SparkSession"
   ]
  },
  {
   "cell_type": "code",
   "execution_count": 4,
   "id": "0d454774-c60b-41d3-834c-8f74fda0a19f",
   "metadata": {},
   "outputs": [
    {
     "name": "stderr",
     "output_type": "stream",
     "text": [
      "Setting default log level to \"WARN\".\n",
      "To adjust logging level use sc.setLogLevel(newLevel). For SparkR, use setLogLevel(newLevel).\n"
     ]
    }
   ],
   "source": [
    "spark = SparkSession.builder\\\n",
    "    .enableHiveSupport()\\\n",
    "    .getOrCreate()"
   ]
  },
  {
   "cell_type": "code",
   "execution_count": 7,
   "id": "800ed21d-abed-4405-944d-6b0bbfc1a87d",
   "metadata": {},
   "outputs": [],
   "source": [
    "table1 = spark.read.format(\"jdbc\")\\\n",
    "    .option(\"url\", \"jdbc:postgresql://metastore:5432/metastore\")\\\n",
    "    .option(\"dbtable\", \"information_schema.tables\")\\\n",
    "    .option(\"user\", \"jupyter\")\\\n",
    "    .option(\"password\", \"jupyter\")\\\n",
    "    .load()"
   ]
  },
  {
   "cell_type": "code",
   "execution_count": 8,
   "id": "2198a150-08db-4aa4-a003-efb0c0582c6c",
   "metadata": {},
   "outputs": [
    {
     "name": "stderr",
     "output_type": "stream",
     "text": [
      "[Stage 0:>                                                          (0 + 1) / 1]\r"
     ]
    },
    {
     "name": "stdout",
     "output_type": "stream",
     "text": [
      "+-------------+------------+------------------+----------+----------------------------+--------------------+-------------------------+------------------------+----------------------+------------------+--------+-------------+\n",
      "|table_catalog|table_schema|        table_name|table_type|self_referencing_column_name|reference_generation|user_defined_type_catalog|user_defined_type_schema|user_defined_type_name|is_insertable_into|is_typed|commit_action|\n",
      "+-------------+------------+------------------+----------+----------------------------+--------------------+-------------------------+------------------------+----------------------+------------------+--------+-------------+\n",
      "|    metastore|      public|               DBS|BASE TABLE|                        null|                null|                     null|                    null|                  null|               YES|      NO|         null|\n",
      "|    metastore|      public|          DB_PRIVS|BASE TABLE|                        null|                null|                     null|                    null|                  null|               YES|      NO|         null|\n",
      "|    metastore|      public|              IDXS|BASE TABLE|                        null|                null|                     null|                    null|                  null|               YES|      NO|         null|\n",
      "|    metastore|      public|      INDEX_PARAMS|BASE TABLE|                        null|                null|                     null|                    null|                  null|               YES|      NO|         null|\n",
      "|    metastore|      public|      GLOBAL_PRIVS|BASE TABLE|                        null|                null|                     null|                    null|                  null|               YES|      NO|         null|\n",
      "|    metastore|      public|        PARTITIONS|BASE TABLE|                        null|                null|                     null|                    null|                  null|               YES|      NO|         null|\n",
      "|    metastore|      public|    PARTITION_KEYS|BASE TABLE|                        null|                null|                     null|                    null|                  null|               YES|      NO|         null|\n",
      "|    metastore|      public|    NUCLEUS_TABLES|BASE TABLE|                        null|                null|                     null|                    null|                  null|               YES|      NO|         null|\n",
      "|    metastore|      public|PARTITION_KEY_VALS|BASE TABLE|                        null|                null|                     null|                    null|                  null|               YES|      NO|         null|\n",
      "|    metastore|      public|  PARTITION_EVENTS|BASE TABLE|                        null|                null|                     null|                    null|                  null|               YES|      NO|         null|\n",
      "|    metastore|      public|             CTLGS|BASE TABLE|                        null|                null|                     null|                    null|                  null|               YES|      NO|         null|\n",
      "|    metastore|      public|    BUCKETING_COLS|BASE TABLE|                        null|                null|                     null|                    null|                  null|               YES|      NO|         null|\n",
      "|    metastore|      public|               CDS|BASE TABLE|                        null|                null|                     null|                    null|                  null|               YES|      NO|         null|\n",
      "|    metastore|      public|   DATABASE_PARAMS|BASE TABLE|                        null|                null|                     null|                    null|                  null|               YES|      NO|         null|\n",
      "|    metastore|      public|        PART_PRIVS|BASE TABLE|                        null|                null|                     null|                    null|                  null|               YES|      NO|         null|\n",
      "|    metastore|      public|             ROLES|BASE TABLE|                        null|                null|                     null|                    null|                  null|               YES|      NO|         null|\n",
      "|    metastore|  pg_catalog|  pg_foreign_table|BASE TABLE|                        null|                null|                     null|                    null|                  null|               YES|      NO|         null|\n",
      "|    metastore|      public|    PART_COL_PRIVS|BASE TABLE|                        null|                null|                     null|                    null|                  null|               YES|      NO|         null|\n",
      "|    metastore|      public|               SDS|BASE TABLE|                        null|                null|                     null|                    null|                  null|               YES|      NO|         null|\n",
      "|    metastore|      public|      SERDE_PARAMS|BASE TABLE|                        null|                null|                     null|                    null|                  null|               YES|      NO|         null|\n",
      "+-------------+------------+------------------+----------+----------------------------+--------------------+-------------------------+------------------------+----------------------+------------------+--------+-------------+\n",
      "only showing top 20 rows\n",
      "\n"
     ]
    },
    {
     "name": "stderr",
     "output_type": "stream",
     "text": [
      "                                                                                \r"
     ]
    }
   ],
   "source": [
    "table1.show()"
   ]
  },
  {
   "cell_type": "code",
   "execution_count": 16,
   "id": "36993c71-ada3-4ed1-ac16-e2472765aba9",
   "metadata": {},
   "outputs": [
    {
     "name": "stderr",
     "output_type": "stream",
     "text": [
      "                                                                                \r"
     ]
    }
   ],
   "source": [
    "table1.write.mode('overwrite').format('orc').saveAsTable('dataframes')"
   ]
  },
  {
   "cell_type": "code",
   "execution_count": 17,
   "id": "5b6c29af-6aee-40cf-a735-b3b976c8b377",
   "metadata": {},
   "outputs": [
    {
     "name": "stdout",
     "output_type": "stream",
     "text": [
      "SLF4J: Class path contains multiple SLF4J bindings.\n",
      "SLF4J: Found binding in [jar:file:/opt/hive/lib/log4j-slf4j-impl-2.17.1.jar!/org/slf4j/impl/StaticLoggerBinder.class]\n",
      "SLF4J: Found binding in [jar:file:/opt/hadoop/share/hadoop/common/lib/slf4j-reload4j-1.7.36.jar!/org/slf4j/impl/StaticLoggerBinder.class]\n",
      "SLF4J: See http://www.slf4j.org/codes.html#multiple_bindings for an explanation.\n",
      "SLF4J: Actual binding is of type [org.apache.logging.slf4j.Log4jLoggerFactory]\n",
      "Hive Session ID = 06e4a0e4-be9a-4890-b060-076634494fd0\n",
      "\n",
      "Logging initialized using configuration in jar:file:/opt/hive/lib/hive-common-3.1.3.jar!/hive-log4j2.properties Async: true\n",
      "Hive Session ID = 5d71bc96-34b8-44ae-a9f0-9ed740c00f99\n",
      "OK\n",
      "metastore\tpublic\tDBS\tBASE TABLE\tNULL\tNULL\tNULL\tNULL\tNULL\tYES\tNO\tNULL\n",
      "metastore\tpublic\tDB_PRIVS\tBASE TABLE\tNULL\tNULL\tNULL\tNULL\tNULL\tYES\tNO\tNULL\n",
      "metastore\tpublic\tIDXS\tBASE TABLE\tNULL\tNULL\tNULL\tNULL\tNULL\tYES\tNO\tNULL\n",
      "metastore\tpublic\tINDEX_PARAMS\tBASE TABLE\tNULL\tNULL\tNULL\tNULL\tNULL\tYES\tNO\tNULL\n",
      "metastore\tpublic\tGLOBAL_PRIVS\tBASE TABLE\tNULL\tNULL\tNULL\tNULL\tNULL\tYES\tNO\tNULL\n",
      "metastore\tpublic\tPARTITIONS\tBASE TABLE\tNULL\tNULL\tNULL\tNULL\tNULL\tYES\tNO\tNULL\n",
      "metastore\tpublic\tPARTITION_KEYS\tBASE TABLE\tNULL\tNULL\tNULL\tNULL\tNULL\tYES\tNO\tNULL\n",
      "metastore\tpublic\tNUCLEUS_TABLES\tBASE TABLE\tNULL\tNULL\tNULL\tNULL\tNULL\tYES\tNO\tNULL\n",
      "metastore\tpublic\tPARTITION_KEY_VALS\tBASE TABLE\tNULL\tNULL\tNULL\tNULL\tNULL\tYES\tNO\tNULL\n",
      "metastore\tpublic\tPARTITION_EVENTS\tBASE TABLE\tNULL\tNULL\tNULL\tNULL\tNULL\tYES\tNO\tNULL\n",
      "Time taken: 4.073 seconds, Fetched: 10 row(s)\n"
     ]
    }
   ],
   "source": [
    "! hive -e \"select * from dataframes limit 10\""
   ]
  },
  {
   "cell_type": "code",
   "execution_count": 18,
   "id": "24218933-1ebd-46bc-a9f4-9a8f7effbf24",
   "metadata": {},
   "outputs": [
    {
     "name": "stdout",
     "output_type": "stream",
     "text": [
      "SLF4J: Class path contains multiple SLF4J bindings.\n",
      "SLF4J: Found binding in [jar:file:/opt/hive/lib/log4j-slf4j-impl-2.17.1.jar!/org/slf4j/impl/StaticLoggerBinder.class]\n",
      "SLF4J: Found binding in [jar:file:/opt/hadoop/share/hadoop/common/lib/slf4j-reload4j-1.7.36.jar!/org/slf4j/impl/StaticLoggerBinder.class]\n",
      "SLF4J: See http://www.slf4j.org/codes.html#multiple_bindings for an explanation.\n",
      "SLF4J: Actual binding is of type [org.apache.logging.slf4j.Log4jLoggerFactory]\n",
      "Hive Session ID = 1c7d123b-17f1-48b1-b22b-38bedc4f6f5f\n",
      "\n",
      "Logging initialized using configuration in jar:file:/opt/hive/lib/hive-common-3.1.3.jar!/hive-log4j2.properties Async: true\n",
      "Hive Session ID = 6409647e-5efa-41cb-aa33-c91e436f64ad\n",
      "OK\n",
      "CREATE TABLE `dataframes`(\n",
      "  `table_catalog` string, \n",
      "  `table_schema` string, \n",
      "  `table_name` string, \n",
      "  `table_type` string, \n",
      "  `self_referencing_column_name` string, \n",
      "  `reference_generation` string, \n",
      "  `user_defined_type_catalog` string, \n",
      "  `user_defined_type_schema` string, \n",
      "  `user_defined_type_name` string, \n",
      "  `is_insertable_into` string, \n",
      "  `is_typed` string, \n",
      "  `commit_action` string)\n",
      "ROW FORMAT SERDE \n",
      "  'org.apache.hadoop.hive.ql.io.orc.OrcSerde' \n",
      "WITH SERDEPROPERTIES ( \n",
      "  'path'='hdfs://master/user/hive/warehouse/dataframes') \n",
      "STORED AS INPUTFORMAT \n",
      "  'org.apache.hadoop.hive.ql.io.orc.OrcInputFormat' \n",
      "OUTPUTFORMAT \n",
      "  'org.apache.hadoop.hive.ql.io.orc.OrcOutputFormat'\n",
      "LOCATION\n",
      "  'hdfs://master/user/hive/warehouse/dataframes'\n",
      "TBLPROPERTIES (\n",
      "  'spark.sql.create.version'='3.4.4', \n",
      "  'spark.sql.sources.provider'='orc', \n",
      "  'spark.sql.sources.schema'='{\"type\":\"struct\",\"fields\":[{\"name\":\"table_catalog\",\"type\":\"string\",\"nullable\":true,\"metadata\":{\"scale\":0}},{\"name\":\"table_schema\",\"type\":\"string\",\"nullable\":true,\"metadata\":{\"scale\":0}},{\"name\":\"table_name\",\"type\":\"string\",\"nullable\":true,\"metadata\":{\"scale\":0}},{\"name\":\"table_type\",\"type\":\"string\",\"nullable\":true,\"metadata\":{\"scale\":0}},{\"name\":\"self_referencing_column_name\",\"type\":\"string\",\"nullable\":true,\"metadata\":{\"scale\":0}},{\"name\":\"reference_generation\",\"type\":\"string\",\"nullable\":true,\"metadata\":{\"scale\":0}},{\"name\":\"user_defined_type_catalog\",\"type\":\"string\",\"nullable\":true,\"metadata\":{\"scale\":0}},{\"name\":\"user_defined_type_schema\",\"type\":\"string\",\"nullable\":true,\"metadata\":{\"scale\":0}},{\"name\":\"user_defined_type_name\",\"type\":\"string\",\"nullable\":true,\"metadata\":{\"scale\":0}},{\"name\":\"is_insertable_into\",\"type\":\"string\",\"nullable\":true,\"metadata\":{\"scale\":0}},{\"name\":\"is_typed\",\"type\":\"string\",\"nullable\":true,\"metadata\":{\"scale\":0}},{\"name\":\"commit_action\",\"type\":\"string\",\"nullable\":true,\"metadata\":{\"scale\":0}}]}', \n",
      "  'transient_lastDdlTime'='1735166256')\n",
      "Time taken: 1.737 seconds, Fetched: 28 row(s)\n"
     ]
    }
   ],
   "source": [
    "! hive -e \"show create table dataframes\""
   ]
  },
  {
   "cell_type": "code",
   "execution_count": 19,
   "id": "775afcc2-93c9-4d9a-89d4-0219b0bb6865",
   "metadata": {},
   "outputs": [
    {
     "name": "stdout",
     "output_type": "stream",
     "text": [
      "SLF4J: Class path contains multiple SLF4J bindings.\n",
      "SLF4J: Found binding in [jar:file:/opt/hive/lib/log4j-slf4j-impl-2.17.1.jar!/org/slf4j/impl/StaticLoggerBinder.class]\n",
      "SLF4J: Found binding in [jar:file:/opt/hadoop/share/hadoop/common/lib/slf4j-reload4j-1.7.36.jar!/org/slf4j/impl/StaticLoggerBinder.class]\n",
      "SLF4J: See http://www.slf4j.org/codes.html#multiple_bindings for an explanation.\n",
      "SLF4J: Actual binding is of type [org.apache.logging.slf4j.Log4jLoggerFactory]\n",
      "Hive Session ID = c824b6f5-bf2f-4b56-a0c2-c27ee06cc235\n",
      "\n",
      "Logging initialized using configuration in jar:file:/opt/hive/lib/hive-common-3.1.3.jar!/hive-log4j2.properties Async: true\n",
      "Hive Session ID = 5f5226c7-3634-4cac-8157-f7086dd0cef6\n",
      "OK\n",
      "Time taken: 2.161 seconds\n"
     ]
    }
   ],
   "source": [
    "! hive -e 'CREATE TABLE `dataframes2`(\\\n",
    "  `table_catalog` string, \\\n",
    "  `table_schema` string, \\\n",
    "  `table_name` string, \\\n",
    "  `table_type` string, \\\n",
    "  `self_referencing_column_name` string, \\\n",
    "  `reference_generation` string, \\\n",
    "  `user_defined_type_catalog` string, \\\n",
    "  `user_defined_type_schema` string, \\\n",
    "  `user_defined_type_name` string, \\\n",
    "  `is_insertable_into` string, \\\n",
    "  `is_typed` string, \\\n",
    "  `commit_action` string)\\\n",
    "STORED AS ORC'"
   ]
  },
  {
   "cell_type": "code",
   "execution_count": 20,
   "id": "ed78b301-0049-485c-a3ea-1e91886b44e9",
   "metadata": {},
   "outputs": [
    {
     "data": {
      "text/plain": [
       "DataFrame[]"
      ]
     },
     "execution_count": 20,
     "metadata": {},
     "output_type": "execute_result"
    }
   ],
   "source": [
    "table1.createOrReplaceTempView('dataframes_df')\n",
    "spark.sql('insert overwrite table dataframes2 select * from dataframes_df')"
   ]
  },
  {
   "cell_type": "code",
   "execution_count": 21,
   "id": "82754b83-585e-4b08-9f50-915e2e3d765a",
   "metadata": {},
   "outputs": [
    {
     "name": "stdout",
     "output_type": "stream",
     "text": [
      "SLF4J: Class path contains multiple SLF4J bindings.\n",
      "SLF4J: Found binding in [jar:file:/opt/hive/lib/log4j-slf4j-impl-2.17.1.jar!/org/slf4j/impl/StaticLoggerBinder.class]\n",
      "SLF4J: Found binding in [jar:file:/opt/hadoop/share/hadoop/common/lib/slf4j-reload4j-1.7.36.jar!/org/slf4j/impl/StaticLoggerBinder.class]\n",
      "SLF4J: See http://www.slf4j.org/codes.html#multiple_bindings for an explanation.\n",
      "SLF4J: Actual binding is of type [org.apache.logging.slf4j.Log4jLoggerFactory]\n",
      "Hive Session ID = c1b8d646-738d-4013-846c-9039ff13752e\n",
      "\n",
      "Logging initialized using configuration in jar:file:/opt/hive/lib/hive-common-3.1.3.jar!/hive-log4j2.properties Async: true\n",
      "Hive Session ID = 8ecd37bc-d050-40d3-968d-07cb331010e7\n",
      "OK\n",
      "metastore\tpublic\tDBS\tBASE TABLE\tNULL\tNULL\tNULL\tNULL\tNULL\tYES\tNO\tNULL\n",
      "metastore\tpublic\tDB_PRIVS\tBASE TABLE\tNULL\tNULL\tNULL\tNULL\tNULL\tYES\tNO\tNULL\n",
      "metastore\tpublic\tIDXS\tBASE TABLE\tNULL\tNULL\tNULL\tNULL\tNULL\tYES\tNO\tNULL\n",
      "metastore\tpublic\tINDEX_PARAMS\tBASE TABLE\tNULL\tNULL\tNULL\tNULL\tNULL\tYES\tNO\tNULL\n",
      "metastore\tpublic\tGLOBAL_PRIVS\tBASE TABLE\tNULL\tNULL\tNULL\tNULL\tNULL\tYES\tNO\tNULL\n",
      "metastore\tpublic\tPARTITIONS\tBASE TABLE\tNULL\tNULL\tNULL\tNULL\tNULL\tYES\tNO\tNULL\n",
      "metastore\tpublic\tPARTITION_KEYS\tBASE TABLE\tNULL\tNULL\tNULL\tNULL\tNULL\tYES\tNO\tNULL\n",
      "metastore\tpublic\tNUCLEUS_TABLES\tBASE TABLE\tNULL\tNULL\tNULL\tNULL\tNULL\tYES\tNO\tNULL\n",
      "metastore\tpublic\tPARTITION_KEY_VALS\tBASE TABLE\tNULL\tNULL\tNULL\tNULL\tNULL\tYES\tNO\tNULL\n",
      "metastore\tpublic\tPARTITION_EVENTS\tBASE TABLE\tNULL\tNULL\tNULL\tNULL\tNULL\tYES\tNO\tNULL\n",
      "Time taken: 3.44 seconds, Fetched: 10 row(s)\n"
     ]
    }
   ],
   "source": [
    "! hive -e \"select * from dataframes2 limit 10\""
   ]
  },
  {
   "cell_type": "code",
   "execution_count": null,
   "id": "689c5440-ccc9-48c1-9a34-a662fda580e5",
   "metadata": {},
   "outputs": [],
   "source": []
  }
 ],
 "metadata": {
  "kernelspec": {
   "display_name": "Python 3 (ipykernel)",
   "language": "python",
   "name": "python3"
  },
  "language_info": {
   "codemirror_mode": {
    "name": "ipython",
    "version": 3
   },
   "file_extension": ".py",
   "mimetype": "text/x-python",
   "name": "python",
   "nbconvert_exporter": "python",
   "pygments_lexer": "ipython3",
   "version": "3.11.6"
  }
 },
 "nbformat": 4,
 "nbformat_minor": 5
}
